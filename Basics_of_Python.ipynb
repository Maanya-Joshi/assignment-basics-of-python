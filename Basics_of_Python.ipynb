{
  "cells": [
    {
      "cell_type": "markdown",
      "metadata": {
        "id": "view-in-github",
        "colab_type": "text"
      },
      "source": [
        "<a href=\"https://colab.research.google.com/github/Maanya-Joshi/assignment-basics-of-python/blob/main/Basics_of_Python.ipynb\" target=\"_parent\"><img src=\"https://colab.research.google.com/assets/colab-badge.svg\" alt=\"Open In Colab\"/></a>"
      ]
    },
    {
      "cell_type": "markdown",
      "source": [
        "Question 1:"
      ],
      "metadata": {
        "id": "RRQsVKg52lzp"
      }
    },
    {
      "cell_type": "code",
      "source": [
        "L=[11,12,13,14]\n",
        "L.append(50)\n",
        "L.append(60)\n",
        "print (L)"
      ],
      "metadata": {
        "id": "zeRVPVobbSrO",
        "outputId": "1b6a855f-51d0-4a2b-a1f6-4a08b3c5b573",
        "colab": {
          "base_uri": "https://localhost:8080/"
        }
      },
      "execution_count": null,
      "outputs": [
        {
          "output_type": "stream",
          "name": "stdout",
          "text": [
            "[11, 12, 13, 14, 50, 60]\n"
          ]
        }
      ]
    },
    {
      "cell_type": "code",
      "source": [
        "L=[11,12,13,14]\n",
        "del L[0]\n",
        "del L[1]\n",
        "print (L)"
      ],
      "metadata": {
        "id": "XDICetiphBSG",
        "outputId": "6681da35-fbab-403f-fb59-40215c612527",
        "colab": {
          "base_uri": "https://localhost:8080/"
        }
      },
      "execution_count": null,
      "outputs": [
        {
          "output_type": "stream",
          "name": "stdout",
          "text": [
            "[12, 14]\n"
          ]
        }
      ]
    },
    {
      "cell_type": "code",
      "source": [
        "L=[11,12,13,14]\n",
        "L.sort()\n",
        "print (L)"
      ],
      "metadata": {
        "id": "8YIjoHQHh46q",
        "outputId": "16bacbf0-1e94-4748-950b-fca3e53164ea",
        "colab": {
          "base_uri": "https://localhost:8080/"
        }
      },
      "execution_count": null,
      "outputs": [
        {
          "output_type": "stream",
          "name": "stdout",
          "text": [
            "[11, 12, 13, 14]\n"
          ]
        }
      ]
    },
    {
      "cell_type": "code",
      "source": [
        "L=[11,12,13,14]\n",
        "L.sort(reverse=True)\n",
        "print (L)"
      ],
      "metadata": {
        "id": "wZJaYpM1jB3k",
        "outputId": "60fa9598-0c8e-427c-92b4-f032f929b37d",
        "colab": {
          "base_uri": "https://localhost:8080/"
        }
      },
      "execution_count": null,
      "outputs": [
        {
          "output_type": "stream",
          "name": "stdout",
          "text": [
            "[14, 13, 12, 11]\n"
          ]
        }
      ]
    },
    {
      "cell_type": "code",
      "source": [
        "L=[11,12,13,14]\n",
        "if(13 in L)== True:\n",
        "  print (\"Present\")\n",
        "else:\n",
        "  print(\"Not Present\")"
      ],
      "metadata": {
        "id": "nXjpUyWalUGa",
        "outputId": "b9920cbf-c3e5-4d04-c336-41d09d7f83d4",
        "colab": {
          "base_uri": "https://localhost:8080/"
        }
      },
      "execution_count": null,
      "outputs": [
        {
          "output_type": "stream",
          "name": "stdout",
          "text": [
            "Present\n"
          ]
        }
      ]
    },
    {
      "cell_type": "code",
      "source": [
        "L=[11,12,13,14]\n",
        "print (len(L))"
      ],
      "metadata": {
        "id": "u_znC947mDl8",
        "outputId": "698720bc-8f10-4f5c-9496-a91da1fd5def",
        "colab": {
          "base_uri": "https://localhost:8080/"
        }
      },
      "execution_count": null,
      "outputs": [
        {
          "output_type": "stream",
          "name": "stdout",
          "text": [
            "4\n"
          ]
        }
      ]
    },
    {
      "cell_type": "code",
      "source": [
        "L=[11,12,13,14]\n",
        "print (sum(L))"
      ],
      "metadata": {
        "id": "knLeKZw1mrEa",
        "outputId": "6c0b2ede-98a8-4f2e-9a42-a911d6dbd868",
        "colab": {
          "base_uri": "https://localhost:8080/"
        }
      },
      "execution_count": null,
      "outputs": [
        {
          "output_type": "stream",
          "name": "stdout",
          "text": [
            "50\n"
          ]
        }
      ]
    },
    {
      "cell_type": "code",
      "source": [
        "L=[11,12,13,14]\n",
        "sum=0\n",
        "for i in L:\n",
        "  if (i%2 !=0):\n",
        "   sum = sum+i\n",
        "print (sum)"
      ],
      "metadata": {
        "id": "U1DWvfoenHeU",
        "outputId": "4df35e81-9f14-4592-d415-88a8bd1d5c1c",
        "colab": {
          "base_uri": "https://localhost:8080/"
        }
      },
      "execution_count": null,
      "outputs": [
        {
          "output_type": "stream",
          "name": "stdout",
          "text": [
            "24\n"
          ]
        }
      ]
    },
    {
      "cell_type": "code",
      "source": [
        "L=[11,12,13,14]\n",
        "sum=0\n",
        "for i in L:\n",
        "  if (i%2 ==0):\n",
        "   sum = sum+i\n",
        "print (sum)"
      ],
      "metadata": {
        "id": "O_KM87jsnw_q",
        "outputId": "158ce6dc-9ccc-4af2-e51b-519d32c62808",
        "colab": {
          "base_uri": "https://localhost:8080/"
        }
      },
      "execution_count": null,
      "outputs": [
        {
          "output_type": "stream",
          "name": "stdout",
          "text": [
            "26\n"
          ]
        }
      ]
    },
    {
      "cell_type": "code",
      "source": [
        "L=[11,12,13,14]\n",
        "sum=0\n",
        "for i in L:\n",
        "    c=0\n",
        "    for j in range (2,i//2+1):\n",
        "      if (i%j ==0):\n",
        "        c=c+1\n",
        "    if c==0:\n",
        "      sum = sum +i\n",
        "print (sum)"
      ],
      "metadata": {
        "id": "w9fYq0Lmn2wW",
        "outputId": "e6731c7f-72b0-45c5-cb0c-2511a57eaf5c",
        "colab": {
          "base_uri": "https://localhost:8080/"
        }
      },
      "execution_count": null,
      "outputs": [
        {
          "output_type": "stream",
          "name": "stdout",
          "text": [
            "24\n"
          ]
        }
      ]
    },
    {
      "cell_type": "code",
      "source": [
        "L=[11,12,13,14]\n",
        "L.clear()\n",
        "print (L)"
      ],
      "metadata": {
        "id": "prMSx_WNp-gf",
        "outputId": "b24da8a3-5f6a-4c79-909d-22e60b4f47f1",
        "colab": {
          "base_uri": "https://localhost:8080/"
        }
      },
      "execution_count": null,
      "outputs": [
        {
          "output_type": "stream",
          "name": "stdout",
          "text": [
            "[]\n"
          ]
        }
      ]
    },
    {
      "cell_type": "code",
      "source": [
        "L=[11,12,13,14]\n",
        "del L\n",
        "print (L)"
      ],
      "metadata": {
        "id": "0urzMm5NqOyx",
        "outputId": "48140db4-a8dd-44c3-9c25-679d0666f1bb",
        "colab": {
          "base_uri": "https://localhost:8080/",
          "height": 201
        }
      },
      "execution_count": null,
      "outputs": [
        {
          "output_type": "error",
          "ename": "NameError",
          "evalue": "ignored",
          "traceback": [
            "\u001b[0;31m---------------------------------------------------------------------------\u001b[0m",
            "\u001b[0;31mNameError\u001b[0m                                 Traceback (most recent call last)",
            "\u001b[0;32m<ipython-input-48-697370f2ff7d>\u001b[0m in \u001b[0;36m<cell line: 3>\u001b[0;34m()\u001b[0m\n\u001b[1;32m      1\u001b[0m \u001b[0mL\u001b[0m\u001b[0;34m=\u001b[0m\u001b[0;34m[\u001b[0m\u001b[0;36m11\u001b[0m\u001b[0;34m,\u001b[0m\u001b[0;36m12\u001b[0m\u001b[0;34m,\u001b[0m\u001b[0;36m13\u001b[0m\u001b[0;34m,\u001b[0m\u001b[0;36m14\u001b[0m\u001b[0;34m]\u001b[0m\u001b[0;34m\u001b[0m\u001b[0;34m\u001b[0m\u001b[0m\n\u001b[1;32m      2\u001b[0m \u001b[0;32mdel\u001b[0m \u001b[0mL\u001b[0m\u001b[0;34m\u001b[0m\u001b[0;34m\u001b[0m\u001b[0m\n\u001b[0;32m----> 3\u001b[0;31m \u001b[0mprint\u001b[0m \u001b[0;34m(\u001b[0m\u001b[0mL\u001b[0m\u001b[0;34m)\u001b[0m\u001b[0;34m\u001b[0m\u001b[0;34m\u001b[0m\u001b[0m\n\u001b[0m",
            "\u001b[0;31mNameError\u001b[0m: name 'L' is not defined"
          ]
        }
      ]
    },
    {
      "cell_type": "markdown",
      "source": [
        "Question 2:"
      ],
      "metadata": {
        "id": "jzl7uEIQ2qO8"
      }
    },
    {
      "cell_type": "code",
      "source": [
        "D= {1:5.6, 2:7.8, 3:6.6, 4:8.7, 5:7.7}\n",
        "D[8]=8.8\n",
        "print (D)"
      ],
      "metadata": {
        "id": "HQfzoGS6qXf1",
        "outputId": "ae6ffa24-5288-426e-fdac-d6cbc21f878a",
        "colab": {
          "base_uri": "https://localhost:8080/"
        }
      },
      "execution_count": null,
      "outputs": [
        {
          "output_type": "stream",
          "name": "stdout",
          "text": [
            "{1: 5.6, 2: 7.8, 3: 6.6, 4: 8.7, 5: 7.7, 8: 8.8}\n"
          ]
        }
      ]
    },
    {
      "cell_type": "code",
      "source": [
        "D= {1:5.6, 2:7.8, 3:6.6, 4:8.7, 5:7.7}\n",
        "del D[2]\n",
        "print (D)"
      ],
      "metadata": {
        "id": "WITOn5rPrhl8",
        "outputId": "986c79a2-6bb8-4c54-b643-422f083bb4b8",
        "colab": {
          "base_uri": "https://localhost:8080/"
        }
      },
      "execution_count": null,
      "outputs": [
        {
          "output_type": "stream",
          "name": "stdout",
          "text": [
            "{1: 5.6, 3: 6.6, 4: 8.7, 5: 7.7}\n"
          ]
        }
      ]
    },
    {
      "cell_type": "code",
      "source": [
        "D= {1:5.6, 2:7.8, 3:6.6, 4:8.7, 5:7.7}\n",
        "print (6 in D)"
      ],
      "metadata": {
        "id": "xdO8JpUlr0W-",
        "outputId": "518874f4-fa87-4506-bb07-e81d8fad535c",
        "colab": {
          "base_uri": "https://localhost:8080/"
        }
      },
      "execution_count": null,
      "outputs": [
        {
          "output_type": "stream",
          "name": "stdout",
          "text": [
            "False\n"
          ]
        }
      ]
    },
    {
      "cell_type": "code",
      "source": [
        "D= {1:5.6, 2:7.8, 3:6.6, 4:8.7, 5:7.7}\n",
        "len(D)"
      ],
      "metadata": {
        "id": "TcTa2USvsXSZ",
        "outputId": "0ef3d613-dfa0-40ed-d402-70a4ba21a44e",
        "colab": {
          "base_uri": "https://localhost:8080/"
        }
      },
      "execution_count": null,
      "outputs": [
        {
          "output_type": "execute_result",
          "data": {
            "text/plain": [
              "5"
            ]
          },
          "metadata": {},
          "execution_count": 53
        }
      ]
    },
    {
      "cell_type": "code",
      "source": [
        "D= {1:5.6, 2:7.8, 3:6.6, 4:8.7, 5:7.7}\n",
        "sum=0\n",
        "for i in D:\n",
        "  sum = sum + D[i]\n",
        "print (sum)"
      ],
      "metadata": {
        "id": "4rQASELBspKJ",
        "outputId": "929a6209-1762-41f6-b208-b87ed48e289a",
        "colab": {
          "base_uri": "https://localhost:8080/"
        }
      },
      "execution_count": null,
      "outputs": [
        {
          "output_type": "stream",
          "name": "stdout",
          "text": [
            "36.4\n"
          ]
        }
      ]
    },
    {
      "cell_type": "code",
      "source": [
        "D= {1:5.6, 2:7.8, 3:6.6, 4:8.7, 5:7.7}\n",
        "D[3]=7.1\n",
        "print (D)"
      ],
      "metadata": {
        "id": "TJWAaAzpt0Ao",
        "outputId": "d8d9c3a5-67c6-4661-adb4-030d0cfec3c3",
        "colab": {
          "base_uri": "https://localhost:8080/"
        }
      },
      "execution_count": null,
      "outputs": [
        {
          "output_type": "stream",
          "name": "stdout",
          "text": [
            "{1: 5.6, 2: 7.8, 3: 7.1, 4: 8.7, 5: 7.7}\n"
          ]
        }
      ]
    },
    {
      "cell_type": "code",
      "source": [
        "D= {1:5.6, 2:7.8, 3:6.6, 4:8.7, 5:7.7}\n",
        "D.clear()\n",
        "print (D)"
      ],
      "metadata": {
        "id": "4FlJTHUDt8Yv",
        "outputId": "31761665-433f-42a4-a667-634d782edce6",
        "colab": {
          "base_uri": "https://localhost:8080/"
        }
      },
      "execution_count": null,
      "outputs": [
        {
          "output_type": "stream",
          "name": "stdout",
          "text": [
            "{}\n"
          ]
        }
      ]
    },
    {
      "cell_type": "markdown",
      "source": [
        "Question 3:"
      ],
      "metadata": {
        "id": "3NhdqW-I2t_Y"
      }
    },
    {
      "cell_type": "code",
      "source": [
        "S1= set([10, 20, 30, 40, 50, 601])\n",
        "S2= set([40, 50, 60, 70, 80, 90])\n",
        "S1.add(55)\n",
        "S1.add(66)\n",
        "print (S1)"
      ],
      "metadata": {
        "id": "0CrQoIo4uOkx",
        "outputId": "8b6c519b-77d9-412f-9018-4318a725e870",
        "colab": {
          "base_uri": "https://localhost:8080/"
        }
      },
      "execution_count": null,
      "outputs": [
        {
          "output_type": "stream",
          "name": "stdout",
          "text": [
            "{66, 40, 10, 50, 20, 55, 601, 30}\n"
          ]
        }
      ]
    },
    {
      "cell_type": "code",
      "source": [
        "S1= set([10, 20, 30, 40, 50, 601])\n",
        "S2= set([40, 50, 60, 70, 80, 90])\n",
        "S1.remove(10)\n",
        "S1.remove(30)\n",
        "print (S1)"
      ],
      "metadata": {
        "id": "7tMjt5jJvXqh",
        "outputId": "4bcd066f-a77d-4a9d-cfbd-722b9ae4abbb",
        "colab": {
          "base_uri": "https://localhost:8080/"
        }
      },
      "execution_count": null,
      "outputs": [
        {
          "output_type": "stream",
          "name": "stdout",
          "text": [
            "{40, 50, 20, 601}\n"
          ]
        }
      ]
    },
    {
      "cell_type": "code",
      "source": [
        "S1= set([10, 20, 30, 40, 50, 601])\n",
        "S2= set([40, 50, 60, 70, 80, 90])\n",
        "print (40 in S1)"
      ],
      "metadata": {
        "id": "Tnh_0FOxwNk0",
        "outputId": "3b9b352f-115e-4f59-89c0-7da07d716e65",
        "colab": {
          "base_uri": "https://localhost:8080/"
        }
      },
      "execution_count": null,
      "outputs": [
        {
          "output_type": "stream",
          "name": "stdout",
          "text": [
            "True\n"
          ]
        }
      ]
    },
    {
      "cell_type": "code",
      "source": [
        "S1= set([10, 20, 30, 40, 50, 601])\n",
        "S2= set([40, 50, 60, 70, 80, 90])\n",
        "print(S1.union(S2))"
      ],
      "metadata": {
        "id": "JWan1y9PwrJO",
        "outputId": "d9ff7ac5-34b9-4d59-f66f-18cf4264c514",
        "colab": {
          "base_uri": "https://localhost:8080/"
        }
      },
      "execution_count": null,
      "outputs": [
        {
          "output_type": "stream",
          "name": "stdout",
          "text": [
            "{70, 40, 10, 80, 50, 20, 601, 90, 60, 30}\n"
          ]
        }
      ]
    },
    {
      "cell_type": "code",
      "source": [
        "S1= set([10, 20, 30, 40, 50, 601])\n",
        "S2= set([40, 50, 60, 70, 80, 90])\n",
        "print(S1.intersection(S2))"
      ],
      "metadata": {
        "id": "EXVyxXe3w0Jq",
        "outputId": "dd318e73-1998-4be6-b4f9-66416b2317e7",
        "colab": {
          "base_uri": "https://localhost:8080/"
        }
      },
      "execution_count": null,
      "outputs": [
        {
          "output_type": "stream",
          "name": "stdout",
          "text": [
            "{40, 50}\n"
          ]
        }
      ]
    },
    {
      "cell_type": "code",
      "source": [
        "S1= set([10, 20, 30, 40, 50, 601])\n",
        "S2= set([40, 50, 60, 70, 80, 90])\n",
        "print(S1.difference(S2))"
      ],
      "metadata": {
        "id": "A46D2PRIy_3i",
        "outputId": "fb6eba0d-61f9-4489-e7a6-a4b308130216",
        "colab": {
          "base_uri": "https://localhost:8080/"
        }
      },
      "execution_count": null,
      "outputs": [
        {
          "output_type": "stream",
          "name": "stdout",
          "text": [
            "{601, 10, 20, 30}\n"
          ]
        }
      ]
    },
    {
      "cell_type": "markdown",
      "source": [
        "Question 4:"
      ],
      "metadata": {
        "id": "t8Bd9TjO2xFo"
      }
    },
    {
      "cell_type": "code",
      "source": [
        "import string as s\n",
        "import random as r\n",
        "for i in range(0,100):\n",
        "  len=r.randint(6,8)\n",
        "  letters= r.sample(s.ascii_letters,len)\n",
        "  print (''.join(letters))"
      ],
      "metadata": {
        "id": "_e-O77XdzKmR",
        "outputId": "d2e60cab-2efc-4c92-a2bd-564c44da1dd6",
        "colab": {
          "base_uri": "https://localhost:8080/"
        }
      },
      "execution_count": null,
      "outputs": [
        {
          "output_type": "stream",
          "name": "stdout",
          "text": [
            "EfROqCsy\n",
            "KysXNTd\n",
            "qERDbLwc\n",
            "VoudzF\n",
            "pWEcqQue\n",
            "aCFsLyxS\n",
            "RxKhjyD\n",
            "RraMSnkg\n",
            "doKuRi\n",
            "veFVJpu\n",
            "siGpSJP\n",
            "AxcuPoIK\n",
            "gYiksaEz\n",
            "CMlqOcd\n",
            "YbtEqf\n",
            "jOdmxLY\n",
            "GUdMDE\n",
            "OviePsJ\n",
            "xpILmQi\n",
            "Alvcafq\n",
            "hUewZzx\n",
            "VZaOQx\n",
            "UDoKTWVa\n",
            "MwUDjfZz\n",
            "BPVjWz\n",
            "KnEYMApk\n",
            "gzQNjc\n",
            "QqEdkizr\n",
            "FtzUkh\n",
            "dAMryLWu\n",
            "XigELr\n",
            "wgKMrW\n",
            "ZsyVxpKz\n",
            "cGxOtWgm\n",
            "MTyecid\n",
            "ubUFROG\n",
            "MvKLgqr\n",
            "QNaESJA\n",
            "bgoZuP\n",
            "TluvSH\n",
            "eICHSd\n",
            "bNAemKy\n",
            "HyCYxB\n",
            "lyCoirbn\n",
            "XSevlA\n",
            "bmXiQAN\n",
            "qLHhJlt\n",
            "gNWkzTBj\n",
            "BZkoIj\n",
            "AXdBrz\n",
            "oNbVfe\n",
            "ZUqvaRwA\n",
            "RZSKTlX\n",
            "bENAQmsk\n",
            "VLdZXcr\n",
            "COGPnoz\n",
            "AwpcXB\n",
            "zVmwPdbs\n",
            "LPXWceQ\n",
            "nhWVHLrB\n",
            "zUoMJvCg\n",
            "cZLXJUF\n",
            "baFWGi\n",
            "XqgvQwpm\n",
            "UiKDMqsv\n",
            "mObiyWw\n",
            "gTnQLZXi\n",
            "Lgtmdk\n",
            "eXPHIab\n",
            "LydzUuGK\n",
            "hvsonxq\n",
            "VyzTGCwm\n",
            "PwXoMCTh\n",
            "ieJalwm\n",
            "USeyWEV\n",
            "wXPRhq\n",
            "FSUrpHj\n",
            "jIZefO\n",
            "JhuayKF\n",
            "gTRCOqab\n",
            "zCRfXrNp\n",
            "CTdkFwos\n",
            "XUuLRD\n",
            "DSvmLXIw\n",
            "ujasEY\n",
            "NqLhJW\n",
            "uEcYlX\n",
            "qICunm\n",
            "JGKdsVzv\n",
            "xzPXdL\n",
            "vIPYNyZt\n",
            "YrUWbS\n",
            "pmqxbliN\n",
            "NdZEuS\n",
            "wAfpDN\n",
            "XpcQSvN\n",
            "WRljYGSa\n",
            "wfqbGV\n",
            "yjigYcpO\n",
            "rRsUXo\n"
          ]
        }
      ]
    },
    {
      "cell_type": "code",
      "source": [
        "for i in range (600,800):\n",
        "    c=0\n",
        "    for j in range (2,i//2+1):\n",
        "      if (i%j ==0):\n",
        "        c=c+1\n",
        "    if c==0:\n",
        "      print (i)"
      ],
      "metadata": {
        "id": "PWJ5E5vWzuRA",
        "outputId": "7a5fb80a-63f5-4748-8772-974f3e8435ad",
        "colab": {
          "base_uri": "https://localhost:8080/"
        }
      },
      "execution_count": null,
      "outputs": [
        {
          "output_type": "stream",
          "name": "stdout",
          "text": [
            "601\n",
            "607\n",
            "613\n",
            "617\n",
            "619\n",
            "631\n",
            "641\n",
            "643\n",
            "647\n",
            "653\n",
            "659\n",
            "661\n",
            "673\n",
            "677\n",
            "683\n",
            "691\n",
            "701\n",
            "709\n",
            "719\n",
            "727\n",
            "733\n",
            "739\n",
            "743\n",
            "751\n",
            "757\n",
            "761\n",
            "769\n",
            "773\n",
            "787\n",
            "797\n"
          ]
        }
      ]
    },
    {
      "cell_type": "code",
      "source": [
        "for i in range (100,1000):\n",
        "    if i%7==0 and i%9==0:\n",
        "      print (i)"
      ],
      "metadata": {
        "id": "WhjVZlDU0YA-",
        "outputId": "3252320f-a792-49f2-c26a-dce5c6db92f0",
        "colab": {
          "base_uri": "https://localhost:8080/"
        }
      },
      "execution_count": null,
      "outputs": [
        {
          "output_type": "stream",
          "name": "stdout",
          "text": [
            "126\n",
            "189\n",
            "252\n",
            "315\n",
            "378\n",
            "441\n",
            "504\n",
            "567\n",
            "630\n",
            "693\n",
            "756\n",
            "819\n",
            "882\n",
            "945\n"
          ]
        }
      ]
    },
    {
      "cell_type": "markdown",
      "source": [
        "Question 5:"
      ],
      "metadata": {
        "id": "yAvuRUji23cc"
      }
    },
    {
      "cell_type": "code",
      "source": [
        "import random as r\n",
        "L1=[]\n",
        "L2=[]\n",
        "for i in range(0,10):\n",
        "  L1.append(r.randint(10,30))\n",
        "  L2.append(r.randint(10,30))\n",
        "print(L1,L2) \n",
        "for i in range (0,10):\n",
        "  c=0\n",
        "  for j in range (0,10):\n",
        "    if L1[i] == L2[j]:\n",
        "      c=c+1\n",
        "  if c!=0:\n",
        "     print (L1[i])"
      ],
      "metadata": {
        "id": "koQfeQOe09K0",
        "outputId": "768158d8-e6d3-4bde-f5f0-f96de774fb19",
        "colab": {
          "base_uri": "https://localhost:8080/"
        }
      },
      "execution_count": null,
      "outputs": [
        {
          "output_type": "stream",
          "name": "stdout",
          "text": [
            "[10, 16, 29, 27, 21, 30, 12, 18, 29, 19] [27, 29, 12, 10, 20, 20, 13, 24, 23, 22]\n",
            "10\n",
            "29\n",
            "27\n",
            "12\n",
            "29\n"
          ]
        }
      ]
    },
    {
      "cell_type": "code",
      "source": [
        "import random as r\n",
        "L1=[]\n",
        "L2=[]\n",
        "for i in range(0,10):\n",
        "  L1.append(r.randint(10,30))\n",
        "  L2.append(r.randint(10,30))\n",
        "print(L1,L2)\n",
        "for i in range (0,10):\n",
        "  c=0\n",
        "  for j in range (0,10):\n",
        "    if L1[i] == L2[j]:\n",
        "      c=c+1\n",
        "  if c==0:\n",
        "     print (L1[i])\n",
        "for i in range (0,10):\n",
        "  c=0\n",
        "  for j in range (0,10):\n",
        "    if L2[i] == L1[j]:\n",
        "      c=c+1\n",
        "  if c==0:\n",
        "     print (L2[i])"
      ],
      "metadata": {
        "id": "zdzxQnCd7iby",
        "outputId": "e80c689f-7536-4747-cfd1-3116957765d5",
        "colab": {
          "base_uri": "https://localhost:8080/"
        }
      },
      "execution_count": null,
      "outputs": [
        {
          "output_type": "stream",
          "name": "stdout",
          "text": [
            "[25, 23, 21, 30, 28, 10, 19, 16, 27, 10] [11, 13, 13, 25, 18, 21, 17, 24, 24, 16]\n",
            "23\n",
            "30\n",
            "28\n",
            "10\n",
            "19\n",
            "27\n",
            "10\n",
            "11\n",
            "13\n",
            "13\n",
            "18\n",
            "17\n",
            "24\n",
            "24\n"
          ]
        }
      ]
    },
    {
      "cell_type": "code",
      "source": [
        "import random as r\n",
        "L1=[]\n",
        "L2=[]\n",
        "for i in range(0,10):\n",
        "  L1.append(r.randint(10,30))\n",
        "  L2.append(r.randint(10,30))\n",
        "print(L1,L2)\n",
        "L=L1+L2 \n",
        "print(max(L))"
      ],
      "metadata": {
        "id": "nXwhNDcF8bhv",
        "outputId": "ffd9638f-2d20-46f0-97af-2bc3a5032f89",
        "colab": {
          "base_uri": "https://localhost:8080/"
        }
      },
      "execution_count": null,
      "outputs": [
        {
          "output_type": "stream",
          "name": "stdout",
          "text": [
            "[12, 25, 22, 25, 20, 18, 26, 30, 28, 20] [18, 27, 18, 15, 23, 15, 24, 26, 16, 15]\n",
            "30\n"
          ]
        }
      ]
    },
    {
      "cell_type": "code",
      "source": [
        "import random as r\n",
        "L1=[]\n",
        "L2=[]\n",
        "for i in range(0,10):\n",
        "  L1.append(r.randint(10,30))\n",
        "  L2.append(r.randint(10,30))\n",
        "print(L1,L2)\n",
        "L=L1+L2 \n",
        "print(min(L))"
      ],
      "metadata": {
        "id": "_J3BwzJa9FL-",
        "outputId": "93021dff-dc24-4e92-8500-c54fe1ecf755",
        "colab": {
          "base_uri": "https://localhost:8080/"
        }
      },
      "execution_count": null,
      "outputs": [
        {
          "output_type": "stream",
          "name": "stdout",
          "text": [
            "[25, 23, 13, 23, 24, 15, 11, 17, 12, 30] [26, 19, 28, 25, 18, 15, 10, 25, 20, 21]\n",
            "10\n"
          ]
        }
      ]
    },
    {
      "cell_type": "code",
      "source": [
        "import random as r\n",
        "L1=[]\n",
        "L2=[]\n",
        "for i in range(0,10):\n",
        "  L1.append(r.randint(10,30))\n",
        "  L2.append(r.randint(10,30))\n",
        "print(L1,L2)\n",
        "L=L1+L2 \n",
        "print(sum(L))"
      ],
      "metadata": {
        "id": "xUAifchi9GFJ",
        "outputId": "8bed8f73-19d3-4a09-a40e-004cf2349302",
        "colab": {
          "base_uri": "https://localhost:8080/"
        }
      },
      "execution_count": null,
      "outputs": [
        {
          "output_type": "stream",
          "name": "stdout",
          "text": [
            "[20, 24, 30, 22, 27, 10, 29, 17, 12, 30] [20, 19, 30, 30, 14, 15, 25, 11, 11, 18]\n",
            "414\n"
          ]
        }
      ]
    },
    {
      "cell_type": "markdown",
      "source": [
        "Question 6:"
      ],
      "metadata": {
        "id": "qcTRlgaU-rG3"
      }
    },
    {
      "cell_type": "code",
      "source": [
        "import random as r\n",
        "L=[]\n",
        "for i in range(0,100):\n",
        "  L.append(r.randint(100,900))\n",
        "for i in L:\n",
        "  if (i%2 !=0):\n",
        "    print(i)"
      ],
      "metadata": {
        "id": "6E4peUzr-qUy",
        "outputId": "ef50e014-617f-4ddf-e9bf-7c44df3fcb24",
        "colab": {
          "base_uri": "https://localhost:8080/"
        }
      },
      "execution_count": null,
      "outputs": [
        {
          "output_type": "stream",
          "name": "stdout",
          "text": [
            "617\n",
            "177\n",
            "293\n",
            "265\n",
            "473\n",
            "157\n",
            "159\n",
            "893\n",
            "197\n",
            "703\n",
            "753\n",
            "355\n",
            "721\n",
            "295\n",
            "381\n",
            "119\n",
            "125\n",
            "691\n",
            "565\n",
            "819\n",
            "265\n",
            "557\n",
            "243\n",
            "635\n",
            "589\n",
            "163\n",
            "713\n",
            "799\n",
            "565\n",
            "663\n",
            "455\n",
            "161\n",
            "257\n",
            "469\n",
            "195\n",
            "335\n",
            "199\n",
            "827\n",
            "761\n",
            "273\n",
            "793\n",
            "291\n",
            "339\n",
            "301\n",
            "501\n",
            "563\n",
            "451\n",
            "277\n",
            "599\n"
          ]
        }
      ]
    },
    {
      "cell_type": "code",
      "source": [
        "import random as r\n",
        "L=[]\n",
        "for i in range(0,100):\n",
        "  L.append(r.randint(100,900))\n",
        "for i in L:\n",
        "  if (i%2 ==0):\n",
        "    print(i)"
      ],
      "metadata": {
        "id": "__uPbBOR_XH6",
        "outputId": "ef70d874-3e28-4c23-dbd5-9ce53d550b13",
        "colab": {
          "base_uri": "https://localhost:8080/"
        }
      },
      "execution_count": null,
      "outputs": [
        {
          "output_type": "stream",
          "name": "stdout",
          "text": [
            "782\n",
            "834\n",
            "102\n",
            "772\n",
            "164\n",
            "780\n",
            "664\n",
            "346\n",
            "382\n",
            "522\n",
            "864\n",
            "808\n",
            "888\n",
            "322\n",
            "322\n",
            "412\n",
            "142\n",
            "376\n",
            "774\n",
            "108\n",
            "768\n",
            "826\n",
            "382\n",
            "586\n",
            "566\n",
            "270\n",
            "804\n",
            "418\n",
            "534\n",
            "772\n",
            "344\n",
            "364\n",
            "578\n",
            "718\n",
            "220\n",
            "496\n",
            "366\n",
            "498\n",
            "324\n",
            "758\n",
            "602\n",
            "732\n",
            "206\n",
            "270\n",
            "100\n",
            "256\n",
            "448\n",
            "184\n",
            "250\n",
            "736\n",
            "548\n",
            "400\n",
            "508\n"
          ]
        }
      ]
    },
    {
      "cell_type": "code",
      "source": [
        "import random as r\n",
        "L=[]\n",
        "for i in range(0,100):\n",
        "  L.append(r.randint(100,900))\n",
        "for i in L:\n",
        "    c=0\n",
        "    for j in range (2,i//2+1):\n",
        "      if (i%j ==0):\n",
        "        c=c+1\n",
        "    if c==0:\n",
        "      print (i)"
      ],
      "metadata": {
        "id": "vE4xxptg_Zzm",
        "outputId": "3a77d8e7-86ae-4585-ffd1-03a193958b00",
        "colab": {
          "base_uri": "https://localhost:8080/"
        }
      },
      "execution_count": null,
      "outputs": [
        {
          "output_type": "stream",
          "name": "stdout",
          "text": [
            "457\n",
            "673\n",
            "431\n",
            "593\n",
            "647\n",
            "373\n",
            "179\n",
            "857\n",
            "347\n",
            "661\n",
            "599\n",
            "733\n",
            "547\n",
            "137\n",
            "139\n",
            "709\n",
            "877\n",
            "421\n",
            "487\n"
          ]
        }
      ]
    },
    {
      "cell_type": "markdown",
      "source": [
        "Question 7:"
      ],
      "metadata": {
        "id": "L2fwi3IN_oOu"
      }
    },
    {
      "cell_type": "code",
      "source": [
        "D= {1:\"One\",2:\"Two\",3:\"Three\",4:\"Four\", 5:\"Five\"}\n",
        "fp=open('damn.txt','w')\n",
        "for  i in D:\n",
        "  fp.write(\"Key\" + str(i) + \", Value\" + str(D[i]) + \"\\n\")\n",
        "fp.close()\n",
        "\n",
        "print (\"Writing done !! \\nOpen damn.txt to view the content\")"
      ],
      "metadata": {
        "colab": {
          "base_uri": "https://localhost:8080/"
        },
        "id": "27gB4gEu_vyu",
        "outputId": "27770e3a-f5fb-4521-9983-6019a792c388"
      },
      "execution_count": null,
      "outputs": [
        {
          "output_type": "stream",
          "name": "stdout",
          "text": [
            "Writing done !! \n",
            "Open result.txt to view the content\n"
          ]
        }
      ]
    },
    {
      "cell_type": "markdown",
      "source": [
        "Question 8:"
      ],
      "metadata": {
        "id": "8QTsSe0JDffc"
      }
    },
    {
      "cell_type": "code",
      "source": [
        "L=[\"One\", \"Two\", \"Three\", \"Four\", \"Five\"]\n",
        "length=[]\n",
        "for i in range(5):\n",
        "  length.append(len(L[i]))\n",
        "fp=open('damn.txt','w')\n",
        "for  i in range(5):\n",
        "  fp.write(str(L[i]) + \",\" + str(length[i]) + \"\\n\")\n",
        "fp.close()\n",
        "\n",
        "print (\"Writing done !! \\nOpen damn.txt to view the content\")"
      ],
      "metadata": {
        "colab": {
          "base_uri": "https://localhost:8080/"
        },
        "id": "kCPchxUADaVZ",
        "outputId": "3ebd5251-5cef-449b-e9be-4408ac9ebffb"
      },
      "execution_count": null,
      "outputs": [
        {
          "output_type": "stream",
          "name": "stdout",
          "text": [
            "Writing done !! \n",
            "Open result.txt to view the content\n"
          ]
        }
      ]
    },
    {
      "cell_type": "markdown",
      "source": [
        "Question 9:"
      ],
      "metadata": {
        "id": "_8Rln1f6Di-P"
      }
    },
    {
      "cell_type": "code",
      "source": [
        "import string as s\n",
        "import random as r\n",
        "fp=open('damn.txt','w')\n",
        "for i in range(0,100):\n",
        "  len=r.randint(10,15)\n",
        "  letters= r.sample(s.ascii_letters,len)\n",
        "  fp.write(str(''.join(letters)) + \"\\n\")\n",
        "fp.close()\n",
        "\n",
        "print (\"Writing done !! \\nOpen damn.txt to view the content\")"
      ],
      "metadata": {
        "colab": {
          "base_uri": "https://localhost:8080/"
        },
        "id": "OOOtBYX8DlzB",
        "outputId": "fcbe9382-6fc9-4a5b-982e-c31adf1482ad"
      },
      "execution_count": null,
      "outputs": [
        {
          "output_type": "stream",
          "name": "stdout",
          "text": [
            "Writing done !! \n",
            "Open damn.txt to view the content\n"
          ]
        }
      ]
    },
    {
      "cell_type": "markdown",
      "source": [
        "Question 10:"
      ],
      "metadata": {
        "id": "uxIvarRyDwUP"
      }
    },
    {
      "cell_type": "code",
      "source": [
        "fp=open('damn.txt','w')\n",
        "for i in range (600,800):\n",
        "    c=0\n",
        "    for j in range (2,i//2+1):\n",
        "      if (i%j ==0):\n",
        "        c=c+1\n",
        "    if c==0:\n",
        "      fp.write (str(i) + \"\\n\")\n",
        "fp.close()\n",
        "\n",
        "print (\"Writing done !! \\nOpen damn.txt to view the content\")"
      ],
      "metadata": {
        "colab": {
          "base_uri": "https://localhost:8080/"
        },
        "id": "7jzuSgHBDypA",
        "outputId": "1836e1cd-6d35-4b42-eaae-94db75f7754d"
      },
      "execution_count": null,
      "outputs": [
        {
          "output_type": "stream",
          "name": "stdout",
          "text": [
            "Writing done !! \n",
            "Open damn.txt to view the content\n"
          ]
        }
      ]
    },
    {
      "cell_type": "markdown",
      "source": [
        "Question 11:"
      ],
      "metadata": {
        "id": "PI8DTU54DzUN"
      }
    },
    {
      "cell_type": "code",
      "source": [
        "import time\n",
        "\n",
        "start = time.time()\n",
        "\n",
        "print(5*5)\n",
        "\n",
        "end = time.time()\n",
        "print(end - start)"
      ],
      "metadata": {
        "colab": {
          "base_uri": "https://localhost:8080/"
        },
        "id": "XeAb-lLeD1Z8",
        "outputId": "fcc484b6-18ca-4133-e137-9bff1aeec498"
      },
      "execution_count": null,
      "outputs": [
        {
          "output_type": "stream",
          "name": "stdout",
          "text": [
            "25\n",
            "0.0010635852813720703\n"
          ]
        }
      ]
    },
    {
      "cell_type": "markdown",
      "source": [
        "Question 12:"
      ],
      "metadata": {
        "id": "xD5wSjrbD2EP"
      }
    },
    {
      "cell_type": "code",
      "source": [
        "import time\n",
        "import random as r\n",
        "from matplotlib import pyplot as plt\n",
        "num_elements =[5000,10000,15000,20000,25000]\n",
        "t = []\n",
        "for i in num_elements:\n",
        "  L=[]\n",
        "  for j in range(i):\n",
        "    L.append(r.randint(0,5000))\n",
        "\n",
        "    start = time.time()\n",
        "    L.sort()\n",
        "\n",
        "  end = time.time()\n",
        "  t.append(end - start)\n",
        "print (t)\n",
        "plt.plot(num_elements,t)\n",
        "plt.xlabel(\"Number of Elements\")\n",
        "plt.ylabel(\"Time\")\n",
        "plt.show()"
      ],
      "metadata": {
        "colab": {
          "base_uri": "https://localhost:8080/",
          "height": 486
        },
        "id": "m_nAC5skD6X3",
        "outputId": "758eb1c9-1c71-4769-df50-3364fecc06df"
      },
      "execution_count": null,
      "outputs": [
        {
          "output_type": "stream",
          "name": "stdout",
          "text": [
            "[2.6464462280273438e-05, 5.3882598876953125e-05, 8.177757263183594e-05, 0.0002009868621826172, 0.0003120899200439453]\n"
          ]
        },
        {
          "output_type": "display_data",
          "data": {
            "text/plain": [
              "<Figure size 640x480 with 1 Axes>"
            ],
            "image/png": "[encoded data removed]"
          },
          "metadata": {}
        }
      ]
    },
    {
      "cell_type": "markdown",
      "source": [
        "Question 13:"
      ],
      "metadata": {
        "id": "vKP-st57NcwM"
      }
    },
    {
      "cell_type": "code",
      "source": [
        "marks ={\"anamika\":[50,60,70,80,90], \"arjun\":[50,60,71,80,90], \"kiran\":[50,60,72,80,90], \"nikhil\":[50,60,73,80,90], \"anmol\":[50,60,74,80,90] }\n",
        "average= {}\n",
        "for i in marks:\n",
        "  average[i]=sum(marks[i])/5\n",
        "print(max(average,key=average.get),min(average,key=average.get))"
      ],
      "metadata": {
        "id": "iOKt2iGamcIh"
      },
      "execution_count": null,
      "outputs": []
    }
  ],
  "metadata": {
    "colab": {
      "toc_visible": true,
      "provenance": [],
      "include_colab_link": true
    },
    "kernelspec": {
      "display_name": "Python 3",
      "name": "python3"
    }
  },
  "nbformat": 4,
  "nbformat_minor": 0
}